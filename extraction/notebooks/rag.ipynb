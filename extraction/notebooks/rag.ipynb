{
 "cells": [
  {
   "cell_type": "markdown",
   "metadata": {},
   "source": [
    "# A simple RAG application using open-source models"
   ]
  },
  {
   "cell_type": "markdown",
   "metadata": {},
   "source": [
    "# Set up"
   ]
  },
  {
   "cell_type": "code",
   "execution_count": 12,
   "metadata": {},
   "outputs": [
    {
     "data": {
      "text/plain": [
       "AIMessage(content='Why did the scarecrow win an award? \\n\\nBecause he was outstanding in his field!', additional_kwargs={'refusal': None}, response_metadata={'token_usage': {'completion_tokens': 18, 'prompt_tokens': 11, 'total_tokens': 29}, 'model_name': 'gpt-4o-mini-2024-07-18', 'system_fingerprint': 'fp_48196bc67a', 'finish_reason': 'stop', 'logprobs': None}, id='run-48d317cb-10fb-4010-91ee-dfcfa4f8acb1-0', usage_metadata={'input_tokens': 11, 'output_tokens': 18, 'total_tokens': 29})"
      ]
     },
     "execution_count": 12,
     "metadata": {},
     "output_type": "execute_result"
    }
   ],
   "source": [
    "import os\n",
    "from dotenv import load_dotenv\n",
    "\n",
    "load_dotenv()\n",
    "\n",
    "OPENAI_API_KEY = os.getenv(\"OPENAI_API_KEY\")\n",
    "MODEL = \"gpt-4o-mini\"\n",
    "# MODEL = \"gpt-3.5-turbo\"\n",
    "# MODEL = \"mixtral:8x7b\"\n",
    "# MODEL = \"llama2\"\n",
    "\n",
    "from langchain_community.llms import Ollama\n",
    "from langchain_openai.chat_models import ChatOpenAI\n",
    "from langchain_community.embeddings import OllamaEmbeddings\n",
    "from langchain_openai.embeddings import OpenAIEmbeddings\n",
    "\n",
    "if MODEL.startswith(\"gpt\"):\n",
    "    model = ChatOpenAI(openai_api_key=OPENAI_API_KEY, model=MODEL)\n",
    "    embeddings = OpenAIEmbeddings()\n",
    "else:\n",
    "    model = Ollama(model=MODEL)\n",
    "    embeddings = OllamaEmbeddings(model=MODEL)\n",
    "\n",
    "model.invoke(\"Tell me a joke\")"
   ]
  },
  {
   "cell_type": "markdown",
   "metadata": {},
   "source": [
    "# System prompt"
   ]
  },
  {
   "cell_type": "code",
   "execution_count": 2,
   "metadata": {},
   "outputs": [
    {
     "data": {
      "text/plain": [
       "'\\nAnswer the question based on the context below. If you can\\'t \\nanswer the question, reply \"None\".\\n\\nContext: Here is some context\\n\\nQuestion: Here is a question\\n'"
      ]
     },
     "execution_count": 2,
     "metadata": {},
     "output_type": "execute_result"
    }
   ],
   "source": [
    "from langchain.prompts import PromptTemplate\n",
    "\n",
    "template = \"\"\"\n",
    "Answer the question based on the context below. If you can't \n",
    "answer the question, reply \"None\".\n",
    "\n",
    "Context: {context}\n",
    "\n",
    "Question: {question}\n",
    "\"\"\"\n",
    "\n",
    "prompt = PromptTemplate.from_template(template)\n",
    "prompt.format(context=\"Here is some context\", question=\"Here is a question\")"
   ]
  },
  {
   "cell_type": "markdown",
   "metadata": {},
   "source": [
    "# Input website"
   ]
  },
  {
   "cell_type": "code",
   "execution_count": 6,
   "metadata": {},
   "outputs": [
    {
     "name": "stdout",
     "output_type": "stream",
     "text": [
      "c:\\Users\\Halyna\\workspace\\python\\gumroad\\data\\math_books\\1.md\n",
      "1.md 1\n",
      "c:\\Users\\Halyna\\workspace\\python\\gumroad\\data\\math_books\\10.md\n",
      "10.md 1\n",
      "c:\\Users\\Halyna\\workspace\\python\\gumroad\\data\\math_books\\11.md\n",
      "11.md 3\n",
      "c:\\Users\\Halyna\\workspace\\python\\gumroad\\data\\math_books\\12.md\n",
      "12.md 1\n",
      "c:\\Users\\Halyna\\workspace\\python\\gumroad\\data\\math_books\\13.md\n",
      "13.md 1\n",
      "7\n",
      "[Document(metadata={'source': 'c:\\\\Users\\\\Halyna\\\\workspace\\\\python\\\\gumroad\\\\data\\\\math_books\\\\1.md'}, page_content=\"Title: A Programmer's Introduction to Mathematics: Second Edition (pdf)\\n\\nURL Source: https://j2kun.gumroad.com/l/pim-book?layout=discover&recommended_by=search&_gl=1*aznv3s*_ga*MTM1NzY2MTEwNy4xNzIzMTczMTQ3*_ga_6LJN6D94N6*MTcyNDAzMzMzNy4xMC4xLjE3MjQwMzMzNjUuMC4wLjA.\\n\\nMarkdown Content:\\n207 ratings\\n\\nA Programmer's Introduction to Mathematics uses your familiarity with ideas from programming and software to teach mathematics.\\n\\nYou'll learn about the central objects and theorems of mathematics, covering graphs, calculus, linear algebra, eigenvalues, optimization, and more. You'll also be immersed in the often unspoken cultural attitudes of mathematics, learning both how to read and write proofs while understanding why mathematics is the way it is. Between each technical chapter is an essay describing a different aspect of mathematical culture, and discussions of the insights and meta-insights that constitute mathematical intuition.\\n\\nAs you learn, we'll use new mathematical ideas to create wondrous programs, from cryptographic schemes to neural networks to hyperbolic tessellations. Each chapter also contains a set of exercises that have you actively explore mathematical topics on your own. By the end of the book, you will be able to learn mathematics on your own. In short, this book will teach you to engage with mathematics.\\n\\nThis is the ebook edition, a full-color pdf containing the complete contents of the book (the physical book is black and white). Due to the heavy use of mathematical typesetting, there is no plan for a ebook-reader-specific format (mobi, epub). This ebook is a simple pdf download.\\n\\n[Add to cart](https://app.gumroad.com/checkout?layout=discover&recommended_by=search&_gl=1*aznv3s*_ga*MTM1NzY2MTEwNy4xNzIzMTczMTQ3*_ga_6LJN6D94N6*MTcyNDAzMzMzNy4xMC4xLjE3MjQwMzMzNjUuMC4wLjA.&product=ykRBH&quantity=1)\\n\\nYou'll get a downloadable copy of the ebook pdf.\\n\\n### Ratings\\n\\n5 stars\\n\\n96%\\n\\n4 stars\\n\\n3%\\n\\n3 stars\\n\\n1%\\n\\n2 stars\\n\\n0%\\n\\n1 star\\n\\n0%\\n\\n### A Programmer's Introduction to Mathematics: Second Edition (pdf)\\n\\n207 ratings\\n\\n[Add to cart](https://app.gumroad.com/checkout?layout=discover&recommended_by=search&_gl=1*aznv3s*_ga*MTM1NzY2MTEwNy4xNzIzMTczMTQ3*_ga_6LJN6D94N6*MTcyNDAzMzMzNy4xMC4xLjE3MjQwMzMzNjUuMC4wLjA.&product=ykRBH&quantity=1)\"), Document(metadata={'source': 'c:\\\\Users\\\\Halyna\\\\workspace\\\\python\\\\gumroad\\\\data\\\\math_books\\\\10.md'}, page_content='Title: Essential Math for Data Science | The Book\\n\\nURL Source: https://hadrienj.gumroad.com/l/wyBbL?layout=discover&recommended_by=search&_gl=1*1q7l1vf*_ga*MTM1NzY2MTEwNy4xNzIzMTczMTQ3*_ga_6LJN6D94N6*MTcyNDAzMzMzNy4xMC4xLjE3MjQwMzU0NDEuMC4wLjA.\\n\\nMarkdown Content:\\nImprove your skills by learning math for data science and machine learning using code and visualizations.\\n\\n**Get all the details here**: [https://www.essentialmathfordatascience.com/](https://www.essentialmathfordatascience.com/)\\n\\nYou can also check the version with access to the private GitHub repo here: [https://hadrienj.gumroad.com/l/ZcUPU](https://hadrienj.gumroad.com/l/ZcUPU)\\n\\nThe great libraries in the data science and machine learning ecosystem allow you to dive into the field without knowing much about the theory. I think that this top-down approach is a great way to start: take real data and run some algorithms.\\n\\nThen, a lot of questions arise like: \"Why don\\'t I get the expected prediction performance on this dataset?\", \"How can I adapt this algorithm to my specific use case?\" At this point, the lack of theory can be a limit to your skill growth. The solution is to dive a bit more into the theory and sharpen your understanding.\\n\\nIn this book, I\\'ll introduce you to math concepts specifically targeted at increasing your understanding in data science and machine learning. I can assure you that even a preliminary exposition to math thinking will clear your vision of the field.\\n\\nBecause the audience of this book is people without a deep math background (e.g. junior data scientists, developers in a career move to data science), the approach is: no-jargon and more insights. You\\'ll just need high school math notions (even rusted).\\n\\nA preliminary exposition to Python (ideally with the library Numpy) is something that will allow you to make the most of this book. The level of programming skill needed is a bit higher in the hands-on projects at the end of each chapter.'), Document(metadata={'source': 'c:\\\\Users\\\\Halyna\\\\workspace\\\\python\\\\gumroad\\\\data\\\\math_books\\\\11.md'}, page_content=\"Title: Data Analytics Roadmap - Become a data analyst in 2024\\n\\nURL Source: https://danicasimicai.gumroad.com/l/scboxb?layout=discover&recommended_by=search&_gl=1*ennyp7*_ga*MTM1NzY2MTEwNy4xNzIzMTczMTQ3*_ga_6LJN6D94N6*MTcyNDAzMzMzNy4xMC4xLjE3MjQwMzU2MTAuMC4wLjA.\\n\\nMarkdown Content:\\n2 ratings\\n\\nDo you feel like you’re drowning in data? If you do, it’s of utmost importance to learn how to swim and navigate through this vast space. Today, data is the most expensive product that you can find online. Every time you accept cookies on a website, you’ve given the internet a small portion of yourself that will be used to train and enhance already-existing but also future analytical and AI systems.\\n\\n“My data is useless,” you’ll say, “Who wants to learn about my coffee maker preferences, Nespresso or Dolce Gusto, nobody cares.”\\n\\nYour personal data may not matter to an individual entity within some data organization. After all, you’re just a row or a JSON entry in some super-large database, lake or a warehouse. But that one row can be a deciding factor for the performance of an artificial intelligence system.\\n\\nDo you feel confused by all these terms but want to get into it?\\n\\nGreat! Because I created a detailed and comprehensive data analysis roadmap with all the tools and resources you can learn to kickstart your career in data.\\n\\nWhether you are a beginner who needs a direction to find a job or data, or start your own data consulting agency, this roadmap will guide you along the path to mastery of this innovative field.\\n\\nWho Needs This Roadmap?\\n-----------------------\\n\\nWhether you really need this roadmap or not is completely up to you, but if you recognize yourself in these points, you should consider getting this data analyst roadmap:\\n\\n·         **Aspiring Data Analysts**: Individuals looking to embark on a career in data analysis can benefit from a roadmap to guide them through the necessary steps and skills development.\\n\\n·         **Junior Data Analysts**: Junior data analysts seeking to advance their career and acquire more advanced skills can use the roadmap to identify areas for improvement and growth.\\n\\n·         **Career Switchers**: Professionals from other fields who wish to transition into data analysis can follow the roadmap to gain the required knowledge and skills.\\n\\n·         **Students and Recent Graduates**: Students pursuing degrees in data-related fields and recent graduates looking to enter the job market can use the roadmap to plan their educational and career paths.\\n\\n·         **Self-Learners**: Individuals who prefer self-paced learning and want to become proficient in data analysis can follow the roadmap to structure their learning journey.\\n\\n·         **Managers and Supervisors**: Managers and team leaders who oversee data analysts can use the roadmap to better understand the skill sets and competencies required for their team members.\\n\\n·         **Data Science Enthusiasts**: Those interested in data science and analysis as a hobby or personal interest can use the roadmap to systematically develop their skills.\\n\\n·         **Educational Institutions**: Colleges and universities can use the roadmap as a guideline to design curriculum and courses for data analysis programs.\\n\\n·         **Employers:** Employers seeking to hire data analysts can refer to the roadmap to assess candidates' qualifications and determine their fit for specific roles.\\n\\n·         **Career Counselors**: Career advisors and counselors can use the roadmap to provide guidance and recommendations to students and job seekers interested in data analysis careers.\\n\\n·         **Skill Assessment:** Individuals looking to assess their current data analysis skills can use the roadmap as a benchmark to identify areas that need improvement.\"), Document(metadata={'source': 'c:\\\\Users\\\\Halyna\\\\workspace\\\\python\\\\gumroad\\\\data\\\\math_books\\\\11.md'}, page_content=\"·         **Skill Assessment:** Individuals looking to assess their current data analysis skills can use the roadmap as a benchmark to identify areas that need improvement.\\n\\n·         **Continuous Learners**: Seasoned data analysts who want to stay up-to-date with the latest trends, tools, and techniques in the field can use the roadmap as a reference for ongoing learning and professional development.\\n\\nWho Doesn’t Need This Roadmap?\\n------------------------------\\n\\n·         **Already an Expert**: If you are already an experienced and proficient data analyst with a deep understanding of the field, you may find the roadmap too basic and not aligned with your advanced skillset.\\n\\n·         **Different Career Goals**: If your career aspirations do not involve data analysis or if you are pursuing a completely different career path, the roadmap may not be relevant to your goals.\\n\\n·         **Lack of Interest**: If you have no interest or passion for data analysis and consider it unappealing, investing time in following the roadmap may not align with your personal interests.\\n\\n·         **Limited Time Commitment**: If you have very limited time to spare for skill development due to other commitments, such as a demanding job or family responsibilities, following the roadmap may not be feasible.\\n\\nWhen you buy this roadmap - you'll get access to a PDF file that contains the link to the roadmap. The roadmap is hosted online and it will consistently get updated with new project ideas, new cheat sheets, tips, tricks, and much more. That way, whoever buys this roadmap will get a LIFELONG ACCESS to it!\\n\\nWhat Do You Get in This Roadmap?\\n--------------------------------\\n\\nIn this roadmap you'll get:\\n\\n*   Guidance for Excel, from beginner to expert\\n*   A comprehensive roadmap for data visualization: Power BI and Tableau\\n*   SQL roadmap\\n*   Python roadmap (Basic and fundamental Python) + Python for statistics, data visualization and data analysis\\n*   Introduction to A/B testing\\n*   70+ project ideas\\n*   15+ free learning resources\\n\\nFAQ\\n---\\n\\nI answered most common questions asked regarding this roadmap. Check them before buying to make sure that you’re interested in this product.\\n\\n### **What can I expect from this roadmap?**\\n\\nThis roadmap provides a structured and step-by-step guide to becoming a proficient data analyst. It outlines the key topics, skills, and milestones you should achieve along your learning journey.\\n\\n### **Can I use this roadmap as a learning curriculum for my data analyst career?**\\n\\nYes, you can use this roadmap as a foundation for your data analyst career. It serves as a comprehensive guide to help you acquire the necessary knowledge and skills to excel in the field.\\n\\n### **Is there a cost associated with accessing the roadmap?**\\n\\nThe roadmap itself is not available for free. However, a free version is accessible on my Instagram account @codingmermaid.ai, which provides an overview and some guidance. For more detailed and in-depth resources, there may be associated costs.\\n\\n### **Are there any prerequisites to start following this roadmap?**\\n\\nWhile there are no strict prerequisites, having a basic understanding of mathematics, statistics, and some programming knowledge can be helpful. The roadmap will guide you through the necessary foundational concepts.\\n\\n### **Is this roadmap suitable for beginners with no prior data analysis experience?**\\n\\nYes, this roadmap is designed to cater to individuals with various levels of experience, including beginners. It provides guidance starting from the fundamentals, making it accessible for those new to data analysis.\\n\\n### **Can I adapt this roadmap to my own pace and learning style?**\\n\\nAbsolutely! The roadmap is a flexible guide, and you can adapt it to your preferred pace and learning style. It's important to customize your learning journey to suit your needs and goals.\\n\\n### **Is there any support or community associated with this roadmap?**\"), Document(metadata={'source': 'c:\\\\Users\\\\Halyna\\\\workspace\\\\python\\\\gumroad\\\\data\\\\math_books\\\\11.md'}, page_content=\"### **Is there any support or community associated with this roadmap?**\\n\\nWhile the roadmap itself is a self-guided resource, you may find supportive communities, forums, or online groups dedicated to data analysts that can provide valuable insights, assistance, and networking opportunities.\\n\\n### **How often is the roadmap updated to reflect changes in the data analysis field?**\\n\\nThe roadmap's frequency of updates may vary. It's a good practice to periodically check for updates or new versions, especially if you want to stay current with the latest trends and technologies in data analysis.\\n\\n### **Is certification included as part of this roadmap?**\\n\\nThe roadmap itself does not provide certifications. However, it can guide you toward relevant courses and resources that offer certifications in data analysis, which can be beneficial for your career.\\n\\n### **Can I use this roadmap for roles other than data analysis, such as data science or business intelligence?**\\n\\nWhile this roadmap primarily focuses on data analysis, many of the foundational skills and concepts covered are applicable to related roles like data science or business intelligence. You can use it as a starting point and then tailor your learning to your specific career goals.\\n\\n[Add to cart](https://app.gumroad.com/checkout?layout=discover&recommended_by=search&_gl=1*ennyp7*_ga*MTM1NzY2MTEwNy4xNzIzMTczMTQ3*_ga_6LJN6D94N6*MTcyNDAzMzMzNy4xMC4xLjE3MjQwMzU2MTAuMC4wLjA.&product=scboxb&quantity=1)**54** sales\\n\\nData Analyst Roadmap will be your guidance on the journey to become a professional data analyst; Learn Excel, Data visualization tools, SQL, Python and much more!\\n\\n### Ratings\\n\\n5 stars\\n\\n100%\\n\\n4 stars\\n\\n0%\\n\\n3 stars\\n\\n0%\\n\\n2 stars\\n\\n0%\\n\\n1 star\\n\\n0%\"), Document(metadata={'source': 'c:\\\\Users\\\\Halyna\\\\workspace\\\\python\\\\gumroad\\\\data\\\\math_books\\\\12.md'}, page_content=\"Title: Ultimate Guide to Machine Learning - The Premium Edition\\n\\nURL Source: https://rubikscode.gumroad.com/l/UGMLP?layout=discover&recommended_by=search&_gl=1*1q7qbay*_ga*MTM1NzY2MTEwNy4xNzIzMTczMTQ3*_ga_6LJN6D94N6*MTcyNDAzMzMzNy4xMC4xLjE3MjQwMzU2MzAuMC4wLjA.\\n\\nMarkdown Content:\\n2 ratings\\n\\nThis bundle of e-books is specially crafted for beginners. Everything from Python basics to the deployment of Machine Learning algorithms to production in one place.\\n\\nBecome a Machine Learning Superhero TODAY!\\n\\nWhat's included?\\n\\n• Ultimate Guide to Machine Learning with Python e-book (PDF)\\n\\n• Full Source Code with all examples from the book (Jupyter Notebooks)\\n\\nSix additional bonus materials:\\n\\n• Bonus #1: Python for Data Science (PDF + Full Source Code)\\n\\n• Bonus #2: Mathematics for Machine Learning (PDF)\\n\\n• Bonus #3: Guide to Data Analysis (PDF + Full Source Code)\\n\\n• Bonus #4: Neural Networks Zoo (PDF)\\n\\n• Bonus #5: Access to a private Discord Community\\n\\nFor additional licensing options, please contact us at [info@rubikscode.net](mailto:info@rubikscode.net).\\n\\nVisit the page to learn more: [https://rubikscode.net/ultimate-guide-to-machine-learning-with-python/](https://rubikscode.net/ultimate-guide-to-machine-learning-with-python/)\\n\\n[Add to cart](https://app.gumroad.com/checkout?layout=discover&recommended_by=search&_gl=1*1q7qbay*_ga*MTM1NzY2MTEwNy4xNzIzMTczMTQ3*_ga_6LJN6D94N6*MTcyNDAzMzMzNy4xMC4xLjE3MjQwMzU2MzAuMC4wLjA.&product=Kmfdg&quantity=1)\\n\\nUltimate Guide to Machine Learning with Python - The Premium Eddition\\n\\n##### Ultimate Guide to Machine Learning with Python e-book + Full Source Code with all examples from the book (Jupyter Notebooks)\\n\\n$65\\n\\n##### Bonus #1: Python for Data Science (PDF + Full Source Code)\\n\\n$15\\n\\n##### Bonus #2: Mathematics for Machine Learning (PDF)\\n\\n$9\\n\\n##### Bonus #3: Guide to Data Analysis (PDF + Full Source Code)\\n\\n$15\\n\\n##### Bonus #4: Neural Networks Zoo (PDF)\\n\\n$9\\n\\n##### Bonus #5: Access to a private Facebook Community\\n\\nFREE\\n\\n### Ratings\\n\\n5 stars\\n\\n100%\\n\\n4 stars\\n\\n0%\\n\\n3 stars\\n\\n0%\\n\\n2 stars\\n\\n0%\\n\\n1 star\\n\\n0%\\n\\n### Ultimate Guide to Machine Learning - The Premium Edition\\n\\n2 ratings\\n\\n[Add to cart](https://app.gumroad.com/checkout?layout=discover&recommended_by=search&_gl=1*1q7qbay*_ga*MTM1NzY2MTEwNy4xNzIzMTczMTQ3*_ga_6LJN6D94N6*MTcyNDAzMzMzNy4xMC4xLjE3MjQwMzU2MzAuMC4wLjA.&product=Kmfdg&quantity=1)\"), Document(metadata={'source': 'c:\\\\Users\\\\Halyna\\\\workspace\\\\python\\\\gumroad\\\\data\\\\math_books\\\\13.md'}, page_content=\"Title: Ticket - Nurturing the Math Instinct\\n\\nURL Source: https://mathforlove.gumroad.com/l/oct24ticket?layout=discover&recommended_by=search&_gl=1*1q7qbay*_ga*MTM1NzY2MTEwNy4xNzIzMTczMTQ3*_ga_6LJN6D94N6*MTcyNDAzMzMzNy4xMC4xLjE3MjQwMzU2MzAuMC4wLjA.\\n\\nMarkdown Content:\\nThis is a ticket to an in-person event.\\n\\n**Nurturing the Math Instinct - a talk for grownups.  \\nHow to foster a love of math from birth through Kindergarten.**\\n\\nTuesday, October 24, 2023, 7:00pm\\n\\nAt the Phinney Neighborhood Association in Seattle. (Exact address on ticket.)\\n\\nSliding Scale: $10 - 20. All proceeds go to the Phinney Neighborhood Preschool Co-op.\\n\\nPlay may be the single most critical element of mathematical learning for young children.\\n\\nIn this talk, we'll review some of the science on the power of play and explore ways we can play with mathematics with young kids at home.\\n\\nSupporting your child’s mathematical development may be simpler and more fun that you’d think!\\n\\n**Topics include:**\\n\\n*   Science on the impact of play and children's development of mathematical reasoning\\n*   Games and activities for numeracy\\n*   Mathematical language\\n*   Mathematizing children's books\\n*   Being a mathematical role model (even if you don’t feel like one)\\n\\nSpeaker: [Dan Finkel](https://mathforlove.com/dan-finkel/)\\n\\nDan Finkel is a game creator, curriculum writer, puzzle author, and math evangelist. He gives talks nationally and internationally, and his TEDx Talk - 5 Principles of Extraordinary Math Teaching - has been viewed over a million times.\\n\\nDan is the Founder of [mathforlove.com](http://mathforlove.com/), a Seattle-based organization devoted to transforming how math is taught and learned. The math games he created with his wife, Katherine Cook, have won over 30 awards. They include Prime Climb, Tiny Polka Dot, Multiplication by Heart, and Rolly Poly. Dan is also Cofounder of [earlyfamilymath.org](http://earlyfamilymath.org/), which provides free, quality math resources for children from 8 months to 8 years. His new math book for kids, Pattern Breakers, was published in 2023.\\n\\nRAFFLE for [Math for Love games](https://mathforlove.com/awg) to be held at event!\\n\\nQuestions? Contact [Dan@mathforlove.com](mailto:Dan@mathforlove.com).\")]\n"
     ]
    }
   ],
   "source": [
    "from langchain.document_loaders import TextLoader\n",
    "import os\n",
    "\n",
    "# Directory containing the Markdown files\n",
    "dir_path = os.path.abspath(\"../data/math_books\")\n",
    "# List to hold all pages from all files\n",
    "all_pages = []\n",
    "\n",
    "# Iterate over each file in the directory\n",
    "i = 0\n",
    "for filename in os.listdir(dir_path):\n",
    "    i += 1\n",
    "    if i > 5:\n",
    "        break\n",
    "    if filename.endswith(\".md\"):\n",
    "        file_path = os.path.join(dir_path, filename)\n",
    "        print(file_path)\n",
    "        # Load the Markdown file\n",
    "        loader = TextLoader(file_path, encoding=\"utf-8\")\n",
    "        pages = loader.load_and_split()\n",
    "        print(filename, len(pages))\n",
    "        # Add pages to the list\n",
    "        all_pages.extend(pages)\n",
    "\n",
    "# all_pages now contains pages from all Markdown files in the directory\n",
    "print(len(all_pages))\n",
    "print(all_pages)"
   ]
  },
  {
   "cell_type": "code",
   "execution_count": 13,
   "metadata": {},
   "outputs": [
    {
     "name": "stdout",
     "output_type": "stream",
     "text": [
      "[Document(metadata={'source': 'c:\\\\Users\\\\Halyna\\\\workspace\\\\python\\\\gumroad\\\\data\\\\math_books\\\\1.md'}, page_content=\"You'll learn about the central objects and theorems of mathematics, covering graphs, calculus, linear algebra, eigenvalues, optimization, and more. You'll also be immersed in the often unspoken cultural attitudes of mathematics, learning both how to read and write proofs while understanding why\"), Document(metadata={'source': 'c:\\\\Users\\\\Halyna\\\\workspace\\\\python\\\\gumroad\\\\data\\\\math_books\\\\1.md'}, page_content=\"Markdown Content:\\n207 ratings\\n\\nA Programmer's Introduction to Mathematics uses your familiarity with ideas from programming and software to teach mathematics.\"), Document(metadata={'source': 'c:\\\\Users\\\\Halyna\\\\workspace\\\\python\\\\gumroad\\\\data\\\\math_books\\\\1.md'}, page_content='on your own. By the end of the book, you will be able to learn mathematics on your own. In short, this book will teach you to engage with mathematics.'), Document(metadata={'source': 'c:\\\\Users\\\\Halyna\\\\workspace\\\\python\\\\gumroad\\\\data\\\\math_books\\\\10.md'}, page_content=\"In this book, I'll introduce you to math concepts specifically targeted at increasing your understanding in data science and machine learning. I can assure you that even a preliminary exposition to math thinking will clear your vision of the field.\"), Document(metadata={'source': 'c:\\\\Users\\\\Halyna\\\\workspace\\\\python\\\\gumroad\\\\data\\\\math_books\\\\1.md'}, page_content=\"As you learn, we'll use new mathematical ideas to create wondrous programs, from cryptographic schemes to neural networks to hyperbolic tessellations. Each chapter also contains a set of exercises that have you actively explore mathematical topics on your own. By the end of the book, you will be\"), Document(metadata={'source': 'c:\\\\Users\\\\Halyna\\\\workspace\\\\python\\\\gumroad\\\\data\\\\math_books\\\\1.md'}, page_content='to read and write proofs while understanding why mathematics is the way it is. Between each technical chapter is an essay describing a different aspect of mathematical culture, and discussions of the insights and meta-insights that constitute mathematical intuition.'), Document(metadata={'source': 'c:\\\\Users\\\\Halyna\\\\workspace\\\\python\\\\gumroad\\\\data\\\\math_books\\\\10.md'}, page_content=\"Because the audience of this book is people without a deep math background (e.g. junior data scientists, developers in a career move to data science), the approach is: no-jargon and more insights. You'll just need high school math notions (even rusted).\")]\n",
      "\n",
      "[Document(metadata={'source': 'c:\\\\Users\\\\Halyna\\\\workspace\\\\python\\\\gumroad\\\\data\\\\math_books\\\\10.md'}, page_content='Title: Essential Math for Data Science | The Book\\n\\nURL Source: https://hadrienj.gumroad.com/l/wyBbL?layout=discover&recommended_by=search&_gl=1*1q7l1vf*_ga*MTM1NzY2MTEwNy4xNzIzMTczMTQ3*_ga_6LJN6D94N6*MTcyNDAzMzMzNy4xMC4xLjE3MjQwMzU0NDEuMC4wLjA.'), Document(metadata={'source': 'c:\\\\Users\\\\Halyna\\\\workspace\\\\python\\\\gumroad\\\\data\\\\math_books\\\\1.md'}, page_content='on your own. By the end of the book, you will be able to learn mathematics on your own. In short, this book will teach you to engage with mathematics.'), Document(metadata={'source': 'c:\\\\Users\\\\Halyna\\\\workspace\\\\python\\\\gumroad\\\\data\\\\math_books\\\\1.md'}, page_content=\"Markdown Content:\\n207 ratings\\n\\nA Programmer's Introduction to Mathematics uses your familiarity with ideas from programming and software to teach mathematics.\"), Document(metadata={'source': 'c:\\\\Users\\\\Halyna\\\\workspace\\\\python\\\\gumroad\\\\data\\\\math_books\\\\1.md'}, page_content=\"Title: A Programmer's Introduction to Mathematics: Second Edition (pdf)\\n\\nURL Source: https://j2kun.gumroad.com/l/pim-book?layout=discover&recommended_by=search&_gl=1*aznv3s*_ga*MTM1NzY2MTEwNy4xNzIzMTczMTQ3*_ga_6LJN6D94N6*MTcyNDAzMzMzNy4xMC4xLjE3MjQwMzMzNjUuMC4wLjA.\\n\\nMarkdown Content:\\n207 ratings\"), Document(metadata={'source': 'c:\\\\Users\\\\Halyna\\\\workspace\\\\python\\\\gumroad\\\\data\\\\math_books\\\\10.md'}, page_content=\"Because the audience of this book is people without a deep math background (e.g. junior data scientists, developers in a career move to data science), the approach is: no-jargon and more insights. You'll just need high school math notions (even rusted).\"), Document(metadata={'source': 'c:\\\\Users\\\\Halyna\\\\workspace\\\\python\\\\gumroad\\\\data\\\\math_books\\\\10.md'}, page_content=\"In this book, I'll introduce you to math concepts specifically targeted at increasing your understanding in data science and machine learning. I can assure you that even a preliminary exposition to math thinking will clear your vision of the field.\"), Document(metadata={'source': 'c:\\\\Users\\\\Halyna\\\\workspace\\\\python\\\\gumroad\\\\data\\\\math_books\\\\1.md'}, page_content=\"You'll learn about the central objects and theorems of mathematics, covering graphs, calculus, linear algebra, eigenvalues, optimization, and more. You'll also be immersed in the often unspoken cultural attitudes of mathematics, learning both how to read and write proofs while understanding why\")]\n",
      "\n",
      "[Document(metadata={'source': 'c:\\\\Users\\\\Halyna\\\\workspace\\\\python\\\\gumroad\\\\data\\\\math_books\\\\1.md'}, page_content=\"As you learn, we'll use new mathematical ideas to create wondrous programs, from cryptographic schemes to neural networks to hyperbolic tessellations. Each chapter also contains a set of exercises that have you actively explore mathematical topics on your own. By the end of the book, you will be\"), Document(metadata={'source': 'c:\\\\Users\\\\Halyna\\\\workspace\\\\python\\\\gumroad\\\\data\\\\math_books\\\\10.md'}, page_content='Title: Essential Math for Data Science | The Book\\n\\nURL Source: https://hadrienj.gumroad.com/l/wyBbL?layout=discover&recommended_by=search&_gl=1*1q7l1vf*_ga*MTM1NzY2MTEwNy4xNzIzMTczMTQ3*_ga_6LJN6D94N6*MTcyNDAzMzMzNy4xMC4xLjE3MjQwMzU0NDEuMC4wLjA.'), Document(metadata={'source': 'c:\\\\Users\\\\Halyna\\\\workspace\\\\python\\\\gumroad\\\\data\\\\math_books\\\\1.md'}, page_content='on your own. By the end of the book, you will be able to learn mathematics on your own. In short, this book will teach you to engage with mathematics.'), Document(metadata={'source': 'c:\\\\Users\\\\Halyna\\\\workspace\\\\python\\\\gumroad\\\\data\\\\math_books\\\\1.md'}, page_content=\"Title: A Programmer's Introduction to Mathematics: Second Edition (pdf)\\n\\nURL Source: https://j2kun.gumroad.com/l/pim-book?layout=discover&recommended_by=search&_gl=1*aznv3s*_ga*MTM1NzY2MTEwNy4xNzIzMTczMTQ3*_ga_6LJN6D94N6*MTcyNDAzMzMzNy4xMC4xLjE3MjQwMzMzNjUuMC4wLjA.\\n\\nMarkdown Content:\\n207 ratings\"), Document(metadata={'source': 'c:\\\\Users\\\\Halyna\\\\workspace\\\\python\\\\gumroad\\\\data\\\\math_books\\\\1.md'}, page_content=\"Markdown Content:\\n207 ratings\\n\\nA Programmer's Introduction to Mathematics uses your familiarity with ideas from programming and software to teach mathematics.\"), Document(metadata={'source': 'c:\\\\Users\\\\Halyna\\\\workspace\\\\python\\\\gumroad\\\\data\\\\math_books\\\\1.md'}, page_content=\"You'll learn about the central objects and theorems of mathematics, covering graphs, calculus, linear algebra, eigenvalues, optimization, and more. You'll also be immersed in the often unspoken cultural attitudes of mathematics, learning both how to read and write proofs while understanding why\"), Document(metadata={'source': 'c:\\\\Users\\\\Halyna\\\\workspace\\\\python\\\\gumroad\\\\data\\\\math_books\\\\1.md'}, page_content='to read and write proofs while understanding why mathematics is the way it is. Between each technical chapter is an essay describing a different aspect of mathematical culture, and discussions of the insights and meta-insights that constitute mathematical intuition.')]\n",
      "\n"
     ]
    }
   ],
   "source": [
    "from langchain.text_splitter import RecursiveCharacterTextSplitter\n",
    "from langchain_community.vectorstores import DocArrayInMemorySearch\n",
    "\n",
    "# Set up the text splitter with desired chunk size and overlap\n",
    "text_splitter = RecursiveCharacterTextSplitter(chunk_size=300, chunk_overlap=50)\n",
    "\n",
    "# Split the documents into chunks\n",
    "split_documents = text_splitter.split_documents(all_pages)\n",
    "\n",
    "# Create the vector store from the split documents\n",
    "vectorstore = DocArrayInMemorySearch.from_documents(\n",
    "    split_documents, embedding=embeddings\n",
    ")\n",
    "retriever = vectorstore.as_retriever(search_kwargs={\"k\": 7})\n",
    "print(retriever.invoke(\"what dou you know about math\"))\n",
    "print()\n",
    "print(retriever.invoke(\"Find a math book for a school student\"))\n",
    "print()\n",
    "print(retriever.invoke(\"Find a math book about cryptography\"))\n",
    "print()"
   ]
  },
  {
   "cell_type": "markdown",
   "metadata": {},
   "source": [
    "# Embed & index"
   ]
  },
  {
   "cell_type": "markdown",
   "metadata": {},
   "source": [
    "# Pipeline"
   ]
  },
  {
   "cell_type": "code",
   "execution_count": 7,
   "metadata": {},
   "outputs": [],
   "source": [
    "from operator import itemgetter\n",
    "from langchain_core.output_parsers import StrOutputParser\n",
    "\n",
    "parser = StrOutputParser()\n",
    "chain = (\n",
    "    {\n",
    "        \"context\": itemgetter(\"question\") | retriever,\n",
    "        \"question\": itemgetter(\"question\"),\n",
    "    }\n",
    "    | prompt\n",
    "    | model\n",
    "    | parser\n",
    ")\n",
    "\n",
    "\n",
    "# chain.invoke(\n",
    "#     {\"context\": \"My parents named me Santiago\", \"question\": \"What's your name'?\"}\n",
    "# )"
   ]
  },
  {
   "cell_type": "markdown",
   "metadata": {},
   "source": [
    "# Questions"
   ]
  },
  {
   "cell_type": "code",
   "execution_count": 8,
   "metadata": {},
   "outputs": [],
   "source": [
    "# questions list\n",
    "questions = [\n",
    "    \"Find a math book\",\n",
    "    \"Find a math book about cryptography\",\n",
    "]\n",
    "    \n"
   ]
  },
  {
   "cell_type": "markdown",
   "metadata": {},
   "source": [
    "# Process"
   ]
  },
  {
   "cell_type": "code",
   "execution_count": 9,
   "metadata": {},
   "outputs": [
    {
     "name": "stdout",
     "output_type": "stream",
     "text": [
      "Question: Find a math book\n",
      "Answer: Title: A Programmer's Introduction to Mathematics: Second Edition\n",
      "\n",
      "Question: Find a math book about cryptography\n",
      "Answer: None\n",
      "\n"
     ]
    }
   ],
   "source": [
    "for question in questions:\n",
    "    print(f\"Question: {question}\")\n",
    "    print(f\"Answer: {chain.invoke({'question': question})}\")\n",
    "    print()"
   ]
  },
  {
   "cell_type": "code",
   "execution_count": 23,
   "metadata": {},
   "outputs": [
    {
     "data": {
      "text/plain": [
       "['AlphaVentures',\n",
       " 'The official website of the fund is [www.alphaventuresfund.com](http://www.alphaventuresfund.com).',\n",
       " 'The fund primarily makes equity investments in early-stage technology startups. Additionally, it also invests in convertible debt and bridge financing.',\n",
       " 'The fund is headquartered in San Francisco, CA, USA.',\n",
       " 'The fund invests in the following industries:\\n- Technology\\n- Healthcare\\n- Green Energy\\n\\nFormatted as:\\n- Tech\\n- Health\\n- Sustainability\\n\\nMaster categories:\\n- Technology\\n- Life Sciences\\n- Renewable Energy']"
      ]
     },
     "execution_count": 23,
     "metadata": {},
     "output_type": "execute_result"
    }
   ],
   "source": [
    "chain.batch([{\"question\": q} for q in questions])"
   ]
  },
  {
   "cell_type": "code",
   "execution_count": 109,
   "metadata": {},
   "outputs": [
    {
     "data": {
      "text/plain": [
       "[Document(page_content='Building Machine Learning Systems That Don\\'t Suck\"This is the best machine learning course I\\'ve done ever. Worth every cent.\"Jose Reyes, AI/ML at Cevo AustraliaBuilding Machine Learning Systems That Don\\'t SuckA live, interactive program that\\'ll help you build production-ready machine learning systems from the ground up.Next cohort:\\xa0April 8 - 25, 2024Check the schedule for more details about upcoming cohorts.Register nowLearn how to design, build, deploy, and scale machine learning systems to solve real-world problems.I\\'ll lose my mind if I see another book or course teaching people the same basic ideas for the hundredth time. Most people are stuck in beginner mode, and finding help to solve real-world problems is hard.I want to change that.I started writing software 30 years ago. I\\'ve written pipelines and trained models for some of the largest companies in the world. I want to show you how to do the same.This is the class I wish I had taken when I started.This program will help you', metadata={'source': 'https://www.ml.school', 'title': \"Building Machine Learning Systems That Don't Suck\", 'description': \"A live, interactive program that'll help you build production-ready machine learning systems from the ground up.\", 'language': 'en'}),\n",
       " Document(page_content=\"pipelines and trained models for some of the largest companies in the world. I want to show you how to do the same.This is the class I wish I had taken when I started.This program will help you unlearn what you think machine learning is. It's a practical, hands-on class where you'll learn from years of experience and real-world examples.When you join, you get lifetime access to the following:18 hours of live, interactive sessions. We'll use this time to discuss the first principles behind building machine learning systems.10 hours of step-by-step coding instructions. These practical sessions will show you how to build an end-to-end system from scratch.A final project where you'll build a complete solution and receive direct feedback on your work.30 coding assignments and practice questions.The entire source code of a working production system. It's yours. You can change and use it as you see fit.A private community where you'll collaborate with thousands of people from different\", metadata={'source': 'https://www.ml.school', 'title': \"Building Machine Learning Systems That Don't Suck\", 'description': \"A live, interactive program that'll help you build production-ready machine learning systems from the ground up.\", 'language': 'en'}),\n",
       " Document(page_content=\"entire source code of a working production system. It's yours. You can change and use it as you see fit.A private community where you'll collaborate with thousands of people from different backgrounds.Direct access to your instructor.Lifetime access to every past and future cohort.Program certificate upon completion.And the best part is that you only pay once to join. There are no monthly fees. No annual fees. No hidden costs. You pay once to join and benefit forever until the end of time.The program won't be easy. It'll take time and effort. But if you want to use machine learning to solve real-world problems, this is the class you don't want to miss.Who Is This Program For?This is a practical, hands-on program for technical professionals who are ready to put in the work.This program is for software engineers, data scientists, data analysts, machine learning engineers, technical managers, and anyone anyone who wants to use machine learning to solve real-world problems.Here are the\", metadata={'source': 'https://www.ml.school', 'title': \"Building Machine Learning Systems That Don't Suck\", 'description': \"A live, interactive program that'll help you build production-ready machine learning systems from the ground up.\", 'language': 'en'}),\n",
       " Document(page_content='for software engineers, data scientists, data analysts, machine learning engineers, technical managers, and anyone anyone who wants to use machine learning to solve real-world problems.Here are the criteria to succeed in the program:You have experience writing code. We\\'ll use Python throughout the class, but you won\\'t have any problems if you know any other language.You are familiar with basic machine learning terminology. This is not an introductory class. We\\'ll move quickly over the basics to focus on the fundamental ideas that make systems work.You are ready to put in the work to succeed.\"I have learned a ton from Santiago in his class and it was actually what helped inspire me and get into the MLOps work that I\\'m doing now. Truly one of the most helpful online courses for doing real, full-scale machine learning.\"Brian H. HoughSoftware EngineerWhat Will You Learn?You\\'ll come out with practical skills and insights into what it takes to build systems that work in the real world.Here', metadata={'source': 'https://www.ml.school', 'title': \"Building Machine Learning Systems That Don't Suck\", 'description': \"A live, interactive program that'll help you build production-ready machine learning systems from the ground up.\", 'language': 'en'}),\n",
       " Document(page_content='full-scale machine learning.\"Brian H. HoughSoftware EngineerWhat Will You Learn?You\\'ll come out with practical skills and insights into what it takes to build systems that work in the real world.Here is a summary of what makes this program unique:You\\'ll design and write the code to build an end-to-end machine learning system starting from scratch.You\\'ll learn best practices to tackle the most significant challenges machine learning engineers face to build, evaluate, run, monitor, and maintain machine learning systems in real-world scenarios.You\\'ll learn how to use techniques like active learning, distributed training, adversarial validation, human-in-the-loop deployments, model compression, test-time augmentation, testing in production, among many others.You\\'ll learn how to create training, deploying, monitoring, and inference pipelines using Amazon SageMaker and open-source tools.Forget about theoretical concepts. This program will show you some of the things I\\'ve learned from', metadata={'source': 'https://www.ml.school', 'title': \"Building Machine Learning Systems That Don't Suck\", 'description': \"A live, interactive program that'll help you build production-ready machine learning systems from the ground up.\", 'language': 'en'}),\n",
       " Document(page_content=\"deploying, monitoring, and inference pipelines using Amazon SageMaker and open-source tools.Forget about theoretical concepts. This program will show you some of the things I've learned from real-life examples I've built during more than 30 years in the industry.Check the program syllabus\\xa0→Real-life examples and case studiesLearn from practical experience building machine learning systems that work in the real world.Live, interactive sessionsAsk questions and interact with the instructor and other students in real time.Code walkthroughsStep by step coding instructions to help you build a production system from scratch.Upcoming ScheduleEvery iteration of the program gives you 18 hours of hands-on, live training spread over 3 weeks.Here are the upcoming cohorts:Cohort 12: April 8 - April 25, 2024. 10:00 AM EDTCohort 13: May 6 - May 23, 2024. 2:00 PM EDTCohort 14: July 1 - July 18, 2024. 4:00 AM EDTLive sessions will take place every Monday and Thursday at the same time. On Wednesdays,\", metadata={'source': 'https://www.ml.school', 'title': \"Building Machine Learning Systems That Don't Suck\", 'description': \"A live, interactive program that'll help you build production-ready machine learning systems from the ground up.\", 'language': 'en'}),\n",
       " Document(page_content='2024. 10:00 AM EDTCohort 13: May 6 - May 23, 2024. 2:00 PM EDTCohort 14: July 1 - July 18, 2024. 4:00 AM EDTLive sessions will take place every Monday and Thursday at the same time. On Wednesdays, we\\'ll host office hours when you can bring your questions projects or anything else you want to discuss.Monday: Live session. 2 hours.Tuesday: Individual work.Wednesday: Optional office hours.Thursday: Live session. 2 hours.Friday: Individual work.Do not wait for a specific cohort to join the program. You have lifetime access to every past and future cohort, and the sooner you join, the more time you have to prepare.Every session is recorded. You can attend live or watch the recorded version later.\"This is one of the best classes I\\'ve ever purchased over the internet. Santiago is a terrific teacher. The ability he has to share knowledge is fantastic. I recommend this course. Worth 10x what he\\'s charging.\"Sal DiStefanoReady To Join The Program?Get lifetime access to every future cohort. No', metadata={'source': 'https://www.ml.school', 'title': \"Building Machine Learning Systems That Don't Suck\", 'description': \"A live, interactive program that'll help you build production-ready machine learning systems from the ground up.\", 'language': 'en'}),\n",
       " Document(page_content='The ability he has to share knowledge is fantastic. I recommend this course. Worth 10x what he\\'s charging.\"Sal DiStefanoReady To Join The Program?Get lifetime access to every future cohort. No monthly fees. No annual fees. No hidden costs.Lifetime access to the programPay once to join and benefit from every past and future cohort. You can participate in as many iterations as you\\'d like. No restrictions.$45018 hours of live, interactive sessions10 hours of step-by-step coding instructions30 coding assignments and practice questionsComplete source code of a working production systemBonus: Course to learn how to start freelancing on UpworkMembership access to a private communityDirect access to your instructorRegister nowProgram SyllabusThis program will teach you the practical skills and insights that will help you build machine learning systems.Here are the contents of the six live sessions of the program:Session 1 - How To Start (Almost) Any ProjectWhat makes production machine', metadata={'source': 'https://www.ml.school', 'title': \"Building Machine Learning Systems That Don't Suck\", 'description': \"A live, interactive program that'll help you build production-ready machine learning systems from the ground up.\", 'language': 'en'}),\n",
       " Document(page_content=\"and insights that will help you build machine learning systems.Here are the contents of the six live sessions of the program:Session 1 - How To Start (Almost) Any ProjectWhat makes production machine learning different from what you've learned.The strategy to solve the right problem using the right solution.Critical questions to ask before starting any project.Problem framing, inversion, and the haystack principle for building successful applications.The first rule of machine learning engineering and how to start building.Data collection strategies. A technique to determine how much data you need.The problem of selection bias and how to deal with it.Labeling data. Human annotations, natural labels and weak supervision.Active learning using the uncertainty and diversity sampling strategies.Session 2 - How to Build a ModelThe role of data cleaning and feature engineering to build better models.Turning data into numbers using vectorization techniques.Producing homogeneous features using\", metadata={'source': 'https://www.ml.school', 'title': \"Building Machine Learning Systems That Don't Suck\", 'description': \"A live, interactive program that'll help you build production-ready machine learning systems from the ground up.\", 'language': 'en'}),\n",
       " Document(page_content='2 - How to Build a ModelThe role of data cleaning and feature engineering to build better models.Turning data into numbers using vectorization techniques.Producing homogeneous features using normalization and standardization.Handling and interpreting missing values using imputation techniques.The approach to choosing the best model to solve any problem.Random baselines and the zero-rule algorithm.How to use overfitting to build models that don\\'t suck.Hyperparameter tuning and experiment tracking.Measuring the quality of your holdout set.An introduction to distributed training using data parallelism and model parallelism.See the remaining sessions\"This is an awesome course! This is my second round and I continue learning. I recommend it with complete confidence.\"Juan OlanoMachine Learning EngineerFrequently Asked QuestionsIf you can\\'t find the answer to your question, please reach out on social media and I\\'ll be happy to help.How long will it take to complete the program?If you are', metadata={'source': 'https://www.ml.school', 'title': \"Building Machine Learning Systems That Don't Suck\", 'description': \"A live, interactive program that'll help you build production-ready machine learning systems from the ground up.\", 'language': 'en'}),\n",
       " Document(page_content=\"EngineerFrequently Asked QuestionsIf you can't find the answer to your question, please reach out on social media and I'll be happy to help.How long will it take to complete the program?If you are attending the live sessions, you should set aside a minimum of 4 hours every week during the three weeks of the program. This commitment will be enough for engineer leaders or anyone not interested in the coding portion of the program.Those interested in implementing the concepts discussed in class should set aside 2 to 4 hours weekly to complete the code walkthroughs and work on the assignments.Are live sessions recorded?Yes, we record every live session. You can decide when to attend classes live or catch up asynchronously later using the recording.I'm a complete beginner. Is this program helpful for me?This program is not an introduction to machine learning.While we'll discuss many fundamental ideas behind machine learning, beginners will find the sessions go much faster than what's\", metadata={'source': 'https://www.ml.school', 'title': \"Building Machine Learning Systems That Don't Suck\", 'description': \"A live, interactive program that'll help you build production-ready machine learning systems from the ground up.\", 'language': 'en'}),\n",
       " Document(page_content='helpful for me?This program is not an introduction to machine learning.While we\\'ll discuss many fundamental ideas behind machine learning, beginners will find the sessions go much faster than what\\'s optimal for them.What does \"lifetime access\" mean?You only pay once to join the program and get immediate access to every past, present, and future cohort.Every new iteration of the program is better than the ones before. Many students take classes once and then join a later cohort to benefit from the updates.The lifetime access removes any pressure from having to complete the program when life gets in the way.Hey! I\\'m Santiago.I\\'m the instructor of the program.I\\'m a machine learning engineer with over two decades of experience building and scaling enterprise software and machine learning systems.I love neural networks. I love to make them work at scale.From 2009 to 2023, I built products for Disney, Boston Dynamics, IBM, Dell, G4S, Anheuser-Busch, and NextEra Energy, among other clients.', metadata={'source': 'https://www.ml.school', 'title': \"Building Machine Learning Systems That Don't Suck\", 'description': \"A live, interactive program that'll help you build production-ready machine learning systems from the ground up.\", 'language': 'en'}),\n",
       " Document(page_content=\"love neural networks. I love to make them work at scale.From 2009 to 2023, I built products for Disney, Boston Dynamics, IBM, Dell, G4S, Anheuser-Busch, and NextEra Energy, among other clients. I learned about trade-offs and how to create products that work.I started this program in March 2023. Since then, thousands of students have graduated, and I can't wait to meet you in class.Copyright © 2024 Tideily LLCAll rights reserved.\", metadata={'source': 'https://www.ml.school', 'title': \"Building Machine Learning Systems That Don't Suck\", 'description': \"A live, interactive program that'll help you build production-ready machine learning systems from the ground up.\", 'language': 'en'})]"
      ]
     },
     "execution_count": 109,
     "metadata": {},
     "output_type": "execute_result"
    }
   ],
   "source": [
    "# from langchain_community.document_loaders import WebBaseLoader\n",
    "# from langchain_text_splitters import RecursiveCharacterTextSplitter\n",
    "\n",
    "# loader = WebBaseLoader(\"https://www.ml.school\")\n",
    "# docs = loader.load()\n",
    "# documents = RecursiveCharacterTextSplitter(\n",
    "#     chunk_size=1000, chunk_overlap=200\n",
    "# ).split_documents(docs)\n",
    "\n",
    "# documents"
   ]
  },
  {
   "cell_type": "code",
   "execution_count": 110,
   "metadata": {},
   "outputs": [],
   "source": []
  }
 ],
 "metadata": {
  "kernelspec": {
   "display_name": "Python (website-extraction)",
   "language": "python",
   "name": "website-extraction"
  },
  "language_info": {
   "codemirror_mode": {
    "name": "ipython",
    "version": 3
   },
   "file_extension": ".py",
   "mimetype": "text/x-python",
   "name": "python",
   "nbconvert_exporter": "python",
   "pygments_lexer": "ipython3",
   "version": "3.12.0"
  }
 },
 "nbformat": 4,
 "nbformat_minor": 2
}
